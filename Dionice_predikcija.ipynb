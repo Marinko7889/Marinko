{
  "nbformat": 4,
  "nbformat_minor": 0,
  "metadata": {
    "colab": {
      "provenance": []
    },
    "kernelspec": {
      "name": "python3",
      "display_name": "Python 3"
    },
    "accelerator": "TPU"
  },
  "cells": [
    {
      "metadata": {
        "id": "sHEdIovSDZ0l",
        "outputId": "985763da-5bee-4e1c-d847-fa88b03d56f8",
        "colab": {
          "base_uri": "https://localhost:8080/"
        }
      },
      "cell_type": "code",
      "source": [
        "!pip install tensorflow-gpu==2.0.0-alpha0"
      ],
      "execution_count": null,
      "outputs": [
        {
          "output_type": "stream",
          "name": "stdout",
          "text": [
            "\u001b[31mERROR: Could not find a version that satisfies the requirement tensorflow-gpu==2.0.0-alpha0 (from versions: 2.8.0rc0, 2.8.0rc1, 2.8.0, 2.8.1, 2.8.2, 2.8.3, 2.8.4, 2.9.0rc0, 2.9.0rc1, 2.9.0rc2, 2.9.0, 2.9.1, 2.9.2, 2.9.3, 2.10.0rc0, 2.10.0rc1, 2.10.0rc2, 2.10.0rc3, 2.10.0, 2.10.1, 2.11.0rc0, 2.11.0rc1, 2.11.0rc2, 2.11.0, 2.12.0)\u001b[0m\u001b[31m\n",
            "\u001b[0m\u001b[31mERROR: No matching distribution found for tensorflow-gpu==2.0.0-alpha0\u001b[0m\u001b[31m\n",
            "\u001b[0m"
          ]
        }
      ]
    },
    {
      "metadata": {
        "id": "VBXq-Wb_K1XR"
      },
      "cell_type": "code",
      "source": [
        "import os\n",
        "import numpy as np\n",
        "import tensorflow as tf\n",
        "from tensorflow import keras\n",
        "import pandas as pd\n",
        "import seaborn as sns\n",
        "from pylab import rcParams\n",
        "import matplotlib.pyplot as plt\n",
        "from matplotlib import rc\n",
        "from sklearn.preprocessing import MinMaxScaler\n",
        "from tensorflow.keras.layers import Bidirectional, Dropout, Activation, Dense, LSTM\n",
        "\n",
        "from tensorflow.keras.models import Sequential\n",
        "\n",
        "%matplotlib inline\n",
        "\n",
        "sns.set(style='whitegrid', palette='muted', font_scale=1.5)\n",
        "\n",
        "rcParams['figure.figsize'] = 14, 8\n",
        "\n",
        "RANDOM_SEED = 42\n",
        "\n",
        "np.random.seed(RANDOM_SEED)"
      ],
      "execution_count": null,
      "outputs": []
    },
    {
      "metadata": {
        "id": "y5o6dHO2LLz-"
      },
      "cell_type": "code",
      "source": [
        "# Data comes from:\n",
        "# https://finance.yahoo.com/quote/BTC-USD/history?period1=1279314000&period2=1556053200&interval=1d&filter=history&frequency=1d\n",
        "# csv_path = \"https://raw.githubusercontent.com/curiousily/Deep-Learning-For-Hackers/master/data/3.stock-prediction/AAPL.csv\"\n",
        "\n",
        "csv_path = \"https://raw.githubusercontent.com/curiousily/Deep-Learning-For-Hackers/master/data/3.stock-prediction/BTC-USD.csv\"\n"
      ],
      "execution_count": null,
      "outputs": []
    },
    {
      "cell_type": "markdown",
      "source": [],
      "metadata": {
        "id": "xk3jKL9LGEeh"
      }
    },
    {
      "metadata": {
        "id": "BnuBLC5DLjXH"
      },
      "cell_type": "code",
      "source": [
        "df = pd.read_csv(csv_path, parse_dates=['Date'])"
      ],
      "execution_count": null,
      "outputs": []
    },
    {
      "metadata": {
        "id": "kqMRRLeTLk_P"
      },
      "cell_type": "code",
      "source": [
        "df = df.sort_values('Date')"
      ],
      "execution_count": null,
      "outputs": []
    },
    {
      "metadata": {
        "id": "mU4B3eNtLpgH",
        "outputId": "e144400f-f3a0-4a65-fa78-3dc2ef5dd48d",
        "colab": {
          "base_uri": "https://localhost:8080/",
          "height": 206
        }
      },
      "cell_type": "code",
      "source": [
        "df.head()"
      ],
      "execution_count": null,
      "outputs": [
        {
          "output_type": "execute_result",
          "data": {
            "text/plain": [
              "        Date     Open     High      Low    Close  Adj Close  Volume\n",
              "0 2010-07-16  0.04951  0.04951  0.04951  0.04951    0.04951       0\n",
              "1 2010-07-17  0.04951  0.08585  0.05941  0.08584    0.08584       5\n",
              "2 2010-07-18  0.08584  0.09307  0.07723  0.08080    0.08080      49\n",
              "3 2010-07-19  0.08080  0.08181  0.07426  0.07474    0.07474      20\n",
              "4 2010-07-20  0.07474  0.07921  0.06634  0.07921    0.07921      42"
            ],
            "text/html": [
              "\n",
              "  <div id=\"df-48ce49b1-b8e6-4e38-9be0-13b9165f5bcc\" class=\"colab-df-container\">\n",
              "    <div>\n",
              "<style scoped>\n",
              "    .dataframe tbody tr th:only-of-type {\n",
              "        vertical-align: middle;\n",
              "    }\n",
              "\n",
              "    .dataframe tbody tr th {\n",
              "        vertical-align: top;\n",
              "    }\n",
              "\n",
              "    .dataframe thead th {\n",
              "        text-align: right;\n",
              "    }\n",
              "</style>\n",
              "<table border=\"1\" class=\"dataframe\">\n",
              "  <thead>\n",
              "    <tr style=\"text-align: right;\">\n",
              "      <th></th>\n",
              "      <th>Date</th>\n",
              "      <th>Open</th>\n",
              "      <th>High</th>\n",
              "      <th>Low</th>\n",
              "      <th>Close</th>\n",
              "      <th>Adj Close</th>\n",
              "      <th>Volume</th>\n",
              "    </tr>\n",
              "  </thead>\n",
              "  <tbody>\n",
              "    <tr>\n",
              "      <th>0</th>\n",
              "      <td>2010-07-16</td>\n",
              "      <td>0.04951</td>\n",
              "      <td>0.04951</td>\n",
              "      <td>0.04951</td>\n",
              "      <td>0.04951</td>\n",
              "      <td>0.04951</td>\n",
              "      <td>0</td>\n",
              "    </tr>\n",
              "    <tr>\n",
              "      <th>1</th>\n",
              "      <td>2010-07-17</td>\n",
              "      <td>0.04951</td>\n",
              "      <td>0.08585</td>\n",
              "      <td>0.05941</td>\n",
              "      <td>0.08584</td>\n",
              "      <td>0.08584</td>\n",
              "      <td>5</td>\n",
              "    </tr>\n",
              "    <tr>\n",
              "      <th>2</th>\n",
              "      <td>2010-07-18</td>\n",
              "      <td>0.08584</td>\n",
              "      <td>0.09307</td>\n",
              "      <td>0.07723</td>\n",
              "      <td>0.08080</td>\n",
              "      <td>0.08080</td>\n",
              "      <td>49</td>\n",
              "    </tr>\n",
              "    <tr>\n",
              "      <th>3</th>\n",
              "      <td>2010-07-19</td>\n",
              "      <td>0.08080</td>\n",
              "      <td>0.08181</td>\n",
              "      <td>0.07426</td>\n",
              "      <td>0.07474</td>\n",
              "      <td>0.07474</td>\n",
              "      <td>20</td>\n",
              "    </tr>\n",
              "    <tr>\n",
              "      <th>4</th>\n",
              "      <td>2010-07-20</td>\n",
              "      <td>0.07474</td>\n",
              "      <td>0.07921</td>\n",
              "      <td>0.06634</td>\n",
              "      <td>0.07921</td>\n",
              "      <td>0.07921</td>\n",
              "      <td>42</td>\n",
              "    </tr>\n",
              "  </tbody>\n",
              "</table>\n",
              "</div>\n",
              "    <div class=\"colab-df-buttons\">\n",
              "\n",
              "  <div class=\"colab-df-container\">\n",
              "    <button class=\"colab-df-convert\" onclick=\"convertToInteractive('df-48ce49b1-b8e6-4e38-9be0-13b9165f5bcc')\"\n",
              "            title=\"Convert this dataframe to an interactive table.\"\n",
              "            style=\"display:none;\">\n",
              "\n",
              "  <svg xmlns=\"http://www.w3.org/2000/svg\" height=\"24px\" viewBox=\"0 -960 960 960\">\n",
              "    <path d=\"M120-120v-720h720v720H120Zm60-500h600v-160H180v160Zm220 220h160v-160H400v160Zm0 220h160v-160H400v160ZM180-400h160v-160H180v160Zm440 0h160v-160H620v160ZM180-180h160v-160H180v160Zm440 0h160v-160H620v160Z\"/>\n",
              "  </svg>\n",
              "    </button>\n",
              "\n",
              "  <style>\n",
              "    .colab-df-container {\n",
              "      display:flex;\n",
              "      gap: 12px;\n",
              "    }\n",
              "\n",
              "    .colab-df-convert {\n",
              "      background-color: #E8F0FE;\n",
              "      border: none;\n",
              "      border-radius: 50%;\n",
              "      cursor: pointer;\n",
              "      display: none;\n",
              "      fill: #1967D2;\n",
              "      height: 32px;\n",
              "      padding: 0 0 0 0;\n",
              "      width: 32px;\n",
              "    }\n",
              "\n",
              "    .colab-df-convert:hover {\n",
              "      background-color: #E2EBFA;\n",
              "      box-shadow: 0px 1px 2px rgba(60, 64, 67, 0.3), 0px 1px 3px 1px rgba(60, 64, 67, 0.15);\n",
              "      fill: #174EA6;\n",
              "    }\n",
              "\n",
              "    .colab-df-buttons div {\n",
              "      margin-bottom: 4px;\n",
              "    }\n",
              "\n",
              "    [theme=dark] .colab-df-convert {\n",
              "      background-color: #3B4455;\n",
              "      fill: #D2E3FC;\n",
              "    }\n",
              "\n",
              "    [theme=dark] .colab-df-convert:hover {\n",
              "      background-color: #434B5C;\n",
              "      box-shadow: 0px 1px 3px 1px rgba(0, 0, 0, 0.15);\n",
              "      filter: drop-shadow(0px 1px 2px rgba(0, 0, 0, 0.3));\n",
              "      fill: #FFFFFF;\n",
              "    }\n",
              "  </style>\n",
              "\n",
              "    <script>\n",
              "      const buttonEl =\n",
              "        document.querySelector('#df-48ce49b1-b8e6-4e38-9be0-13b9165f5bcc button.colab-df-convert');\n",
              "      buttonEl.style.display =\n",
              "        google.colab.kernel.accessAllowed ? 'block' : 'none';\n",
              "\n",
              "      async function convertToInteractive(key) {\n",
              "        const element = document.querySelector('#df-48ce49b1-b8e6-4e38-9be0-13b9165f5bcc');\n",
              "        const dataTable =\n",
              "          await google.colab.kernel.invokeFunction('convertToInteractive',\n",
              "                                                    [key], {});\n",
              "        if (!dataTable) return;\n",
              "\n",
              "        const docLinkHtml = 'Like what you see? Visit the ' +\n",
              "          '<a target=\"_blank\" href=https://colab.research.google.com/notebooks/data_table.ipynb>data table notebook</a>'\n",
              "          + ' to learn more about interactive tables.';\n",
              "        element.innerHTML = '';\n",
              "        dataTable['output_type'] = 'display_data';\n",
              "        await google.colab.output.renderOutput(dataTable, element);\n",
              "        const docLink = document.createElement('div');\n",
              "        docLink.innerHTML = docLinkHtml;\n",
              "        element.appendChild(docLink);\n",
              "      }\n",
              "    </script>\n",
              "  </div>\n",
              "\n",
              "\n",
              "<div id=\"df-8214d242-4cd6-4e6f-bee2-0b5d0577ad8f\">\n",
              "  <button class=\"colab-df-quickchart\" onclick=\"quickchart('df-8214d242-4cd6-4e6f-bee2-0b5d0577ad8f')\"\n",
              "            title=\"Suggest charts\"\n",
              "            style=\"display:none;\">\n",
              "\n",
              "<svg xmlns=\"http://www.w3.org/2000/svg\" height=\"24px\"viewBox=\"0 0 24 24\"\n",
              "     width=\"24px\">\n",
              "    <g>\n",
              "        <path d=\"M19 3H5c-1.1 0-2 .9-2 2v14c0 1.1.9 2 2 2h14c1.1 0 2-.9 2-2V5c0-1.1-.9-2-2-2zM9 17H7v-7h2v7zm4 0h-2V7h2v10zm4 0h-2v-4h2v4z\"/>\n",
              "    </g>\n",
              "</svg>\n",
              "  </button>\n",
              "\n",
              "<style>\n",
              "  .colab-df-quickchart {\n",
              "      --bg-color: #E8F0FE;\n",
              "      --fill-color: #1967D2;\n",
              "      --hover-bg-color: #E2EBFA;\n",
              "      --hover-fill-color: #174EA6;\n",
              "      --disabled-fill-color: #AAA;\n",
              "      --disabled-bg-color: #DDD;\n",
              "  }\n",
              "\n",
              "  [theme=dark] .colab-df-quickchart {\n",
              "      --bg-color: #3B4455;\n",
              "      --fill-color: #D2E3FC;\n",
              "      --hover-bg-color: #434B5C;\n",
              "      --hover-fill-color: #FFFFFF;\n",
              "      --disabled-bg-color: #3B4455;\n",
              "      --disabled-fill-color: #666;\n",
              "  }\n",
              "\n",
              "  .colab-df-quickchart {\n",
              "    background-color: var(--bg-color);\n",
              "    border: none;\n",
              "    border-radius: 50%;\n",
              "    cursor: pointer;\n",
              "    display: none;\n",
              "    fill: var(--fill-color);\n",
              "    height: 32px;\n",
              "    padding: 0;\n",
              "    width: 32px;\n",
              "  }\n",
              "\n",
              "  .colab-df-quickchart:hover {\n",
              "    background-color: var(--hover-bg-color);\n",
              "    box-shadow: 0 1px 2px rgba(60, 64, 67, 0.3), 0 1px 3px 1px rgba(60, 64, 67, 0.15);\n",
              "    fill: var(--button-hover-fill-color);\n",
              "  }\n",
              "\n",
              "  .colab-df-quickchart-complete:disabled,\n",
              "  .colab-df-quickchart-complete:disabled:hover {\n",
              "    background-color: var(--disabled-bg-color);\n",
              "    fill: var(--disabled-fill-color);\n",
              "    box-shadow: none;\n",
              "  }\n",
              "\n",
              "  .colab-df-spinner {\n",
              "    border: 2px solid var(--fill-color);\n",
              "    border-color: transparent;\n",
              "    border-bottom-color: var(--fill-color);\n",
              "    animation:\n",
              "      spin 1s steps(1) infinite;\n",
              "  }\n",
              "\n",
              "  @keyframes spin {\n",
              "    0% {\n",
              "      border-color: transparent;\n",
              "      border-bottom-color: var(--fill-color);\n",
              "      border-left-color: var(--fill-color);\n",
              "    }\n",
              "    20% {\n",
              "      border-color: transparent;\n",
              "      border-left-color: var(--fill-color);\n",
              "      border-top-color: var(--fill-color);\n",
              "    }\n",
              "    30% {\n",
              "      border-color: transparent;\n",
              "      border-left-color: var(--fill-color);\n",
              "      border-top-color: var(--fill-color);\n",
              "      border-right-color: var(--fill-color);\n",
              "    }\n",
              "    40% {\n",
              "      border-color: transparent;\n",
              "      border-right-color: var(--fill-color);\n",
              "      border-top-color: var(--fill-color);\n",
              "    }\n",
              "    60% {\n",
              "      border-color: transparent;\n",
              "      border-right-color: var(--fill-color);\n",
              "    }\n",
              "    80% {\n",
              "      border-color: transparent;\n",
              "      border-right-color: var(--fill-color);\n",
              "      border-bottom-color: var(--fill-color);\n",
              "    }\n",
              "    90% {\n",
              "      border-color: transparent;\n",
              "      border-bottom-color: var(--fill-color);\n",
              "    }\n",
              "  }\n",
              "</style>\n",
              "\n",
              "  <script>\n",
              "    async function quickchart(key) {\n",
              "      const quickchartButtonEl =\n",
              "        document.querySelector('#' + key + ' button');\n",
              "      quickchartButtonEl.disabled = true;  // To prevent multiple clicks.\n",
              "      quickchartButtonEl.classList.add('colab-df-spinner');\n",
              "      try {\n",
              "        const charts = await google.colab.kernel.invokeFunction(\n",
              "            'suggestCharts', [key], {});\n",
              "      } catch (error) {\n",
              "        console.error('Error during call to suggestCharts:', error);\n",
              "      }\n",
              "      quickchartButtonEl.classList.remove('colab-df-spinner');\n",
              "      quickchartButtonEl.classList.add('colab-df-quickchart-complete');\n",
              "    }\n",
              "    (() => {\n",
              "      let quickchartButtonEl =\n",
              "        document.querySelector('#df-8214d242-4cd6-4e6f-bee2-0b5d0577ad8f button');\n",
              "      quickchartButtonEl.style.display =\n",
              "        google.colab.kernel.accessAllowed ? 'block' : 'none';\n",
              "    })();\n",
              "  </script>\n",
              "</div>\n",
              "    </div>\n",
              "  </div>\n"
            ]
          },
          "metadata": {},
          "execution_count": 6
        }
      ]
    },
    {
      "metadata": {
        "id": "t-xB1zK0C0mG",
        "outputId": "734d716f-8cf3-43c0-9f9e-a81f0f30cee9",
        "colab": {
          "base_uri": "https://localhost:8080/"
        }
      },
      "cell_type": "code",
      "source": [
        "df.shape"
      ],
      "execution_count": null,
      "outputs": [
        {
          "output_type": "execute_result",
          "data": {
            "text/plain": [
              "(3201, 7)"
            ]
          },
          "metadata": {},
          "execution_count": 7
        }
      ]
    },
    {
      "metadata": {
        "id": "4XyoR5lG3Jxv",
        "outputId": "10b0b61e-3748-44a4-9685-f1f935621fc1",
        "colab": {
          "base_uri": "https://localhost:8080/",
          "height": 690
        }
      },
      "cell_type": "code",
      "source": [
        "ax = df.plot(x='Date', y='Close');\n",
        "ax.set_xlabel(\"Date\")\n",
        "ax.set_ylabel(\"Close Price (USD)\")"
      ],
      "execution_count": null,
      "outputs": [
        {
          "output_type": "execute_result",
          "data": {
            "text/plain": [
              "Text(0, 0.5, 'Close Price (USD)')"
            ]
          },
          "metadata": {},
          "execution_count": 8
        },
        {
          "output_type": "display_data",
          "data": {
            "text/plain": [
              "<Figure size 1400x800 with 1 Axes>"
            ],
            "image/png": "[encoded data removed]"
          },
          "metadata": {}
        }
      ]
    },
    {
      "metadata": {
        "id": "7twAH-I-qO9Z"
      },
      "cell_type": "markdown",
      "source": [
        "# Normalization"
      ]
    },
    {
      "metadata": {
        "id": "Ux2FtgMAqObq"
      },
      "cell_type": "code",
      "source": [
        "scaler = MinMaxScaler()\n",
        "\n",
        "close_price = df.Close.values.reshape(-1, 1)\n",
        "\n",
        "scaled_close = scaler.fit_transform(close_price)"
      ],
      "execution_count": null,
      "outputs": []
    },
    {
      "metadata": {
        "id": "UprkaMWFvQOG",
        "outputId": "8a744bfe-940f-4202-bf63-47c7073d2ad6",
        "colab": {
          "base_uri": "https://localhost:8080/"
        }
      },
      "cell_type": "code",
      "source": [
        "scaled_close.shape"
      ],
      "execution_count": null,
      "outputs": [
        {
          "output_type": "execute_result",
          "data": {
            "text/plain": [
              "(3201, 1)"
            ]
          },
          "metadata": {},
          "execution_count": 10
        }
      ]
    },
    {
      "metadata": {
        "id": "qOg2HX9AuTk-",
        "outputId": "316bce8b-5c19-4311-9a11-4e8a03dd1d75",
        "colab": {
          "base_uri": "https://localhost:8080/"
        }
      },
      "cell_type": "code",
      "source": [
        "np.isnan(scaled_close).any()"
      ],
      "execution_count": null,
      "outputs": [
        {
          "output_type": "execute_result",
          "data": {
            "text/plain": [
              "False"
            ]
          },
          "metadata": {},
          "execution_count": 11
        }
      ]
    },
    {
      "metadata": {
        "id": "evHUrll9ukht"
      },
      "cell_type": "code",
      "source": [
        "scaled_close = scaled_close[~np.isnan(scaled_close)]"
      ],
      "execution_count": null,
      "outputs": []
    },
    {
      "metadata": {
        "id": "gCyOvwnqvTSw"
      },
      "cell_type": "code",
      "source": [
        "scaled_close = scaled_close.reshape(-1, 1)"
      ],
      "execution_count": null,
      "outputs": []
    },
    {
      "metadata": {
        "id": "eSJxuT3-u6K2",
        "outputId": "54e96cf6-a70b-46dd-d192-0710d3beb22b",
        "colab": {
          "base_uri": "https://localhost:8080/"
        }
      },
      "cell_type": "code",
      "source": [
        "np.isnan(scaled_close).any()"
      ],
      "execution_count": null,
      "outputs": [
        {
          "output_type": "execute_result",
          "data": {
            "text/plain": [
              "False"
            ]
          },
          "metadata": {},
          "execution_count": 14
        }
      ]
    },
    {
      "metadata": {
        "id": "CQgrA2va4Jzx"
      },
      "cell_type": "markdown",
      "source": [
        "# Preprocessing"
      ]
    },
    {
      "metadata": {
        "id": "NS5O4-Vtq-N1",
        "colab": {
          "base_uri": "https://localhost:8080/"
        },
        "outputId": "b2f7b751-e9fe-4803-94cf-808b71e05f30"
      },
      "cell_type": "code",
      "source": [
        "SEQ_LEN = 100\n",
        "\n",
        "def to_sequences(data, seq_len):\n",
        "    d = []\n",
        "\n",
        "    for index in range(len(data) - seq_len):\n",
        "        d.append(data[index: index + seq_len])\n",
        "\n",
        "    return np.array(d)\n",
        "\n",
        "def preprocess(data_raw, seq_len, train_split):\n",
        "\n",
        "    data = to_sequences(data_raw, seq_len)\n",
        "    num_train = int(train_split * data.shape[0])\n",
        "    print(num_train)\n",
        "    print(data)\n",
        "\n",
        "    X_train = data[:num_train, :-1, :]\n",
        "    y_train = data[:num_train, -1, :]\n",
        "    print(\"a\")\n",
        "    print(X_train)\n",
        "\n",
        "    X_test = data[num_train:, :-1, :]\n",
        "    print(\"B\")\n",
        "    print(X_test)\n",
        "    y_test = data[num_train:, -1, :]\n",
        "\n",
        "    return X_train, y_train, X_test, y_test\n",
        "\n",
        "\n",
        "X_train, y_train, X_test, y_test = preprocess(scaled_close, SEQ_LEN, train_split = 0.95)"
      ],
      "execution_count": null,
      "outputs": [
        {
          "output_type": "stream",
          "name": "stdout",
          "text": [
            "2945\n",
            "[[[0.00000000e+00]\n",
            "  [1.87796187e-06]\n",
            "  [1.61743537e-06]\n",
            "  ...\n",
            "  [2.73914669e-06]\n",
            "  [2.89422199e-06]\n",
            "  [3.38529377e-06]]\n",
            "\n",
            " [[1.87796187e-06]\n",
            "  [1.61743537e-06]\n",
            "  [1.30418326e-06]\n",
            "  ...\n",
            "  [2.89422199e-06]\n",
            "  [3.38529377e-06]\n",
            "  [4.26405380e-06]]\n",
            "\n",
            " [[1.61743537e-06]\n",
            "  [1.30418326e-06]\n",
            "  [1.53524546e-06]\n",
            "  ...\n",
            "  [3.38529377e-06]\n",
            "  [4.26405380e-06]\n",
            "  [5.21001312e-06]]\n",
            "\n",
            " ...\n",
            "\n",
            " [[2.09263290e-01]\n",
            "  [1.89610588e-01]\n",
            "  [1.89664867e-01]\n",
            "  ...\n",
            "  [2.69456800e-01]\n",
            "  [2.70668957e-01]\n",
            "  [2.73433961e-01]]\n",
            "\n",
            " [[1.89610588e-01]\n",
            "  [1.89664867e-01]\n",
            "  [1.89415709e-01]\n",
            "  ...\n",
            "  [2.70668957e-01]\n",
            "  [2.73433961e-01]\n",
            "  [2.73732729e-01]]\n",
            "\n",
            " [[1.89664867e-01]\n",
            "  [1.89415709e-01]\n",
            "  [1.83567308e-01]\n",
            "  ...\n",
            "  [2.73433961e-01]\n",
            "  [2.73732729e-01]\n",
            "  [2.75317101e-01]]]\n",
            "a\n",
            "[[[0.00000000e+00]\n",
            "  [1.87796187e-06]\n",
            "  [1.61743537e-06]\n",
            "  ...\n",
            "  [2.97175964e-06]\n",
            "  [2.73914669e-06]\n",
            "  [2.89422199e-06]]\n",
            "\n",
            " [[1.87796187e-06]\n",
            "  [1.61743537e-06]\n",
            "  [1.30418326e-06]\n",
            "  ...\n",
            "  [2.73914669e-06]\n",
            "  [2.89422199e-06]\n",
            "  [3.38529377e-06]]\n",
            "\n",
            " [[1.61743537e-06]\n",
            "  [1.30418326e-06]\n",
            "  [1.53524546e-06]\n",
            "  ...\n",
            "  [2.89422199e-06]\n",
            "  [3.38529377e-06]\n",
            "  [4.26405380e-06]]\n",
            "\n",
            " ...\n",
            "\n",
            " [[3.59037066e-01]\n",
            "  [3.47532039e-01]\n",
            "  [3.24881227e-01]\n",
            "  ...\n",
            "  [3.30637110e-01]\n",
            "  [3.31247593e-01]\n",
            "  [3.29536590e-01]]\n",
            "\n",
            " [[3.47532039e-01]\n",
            "  [3.24881227e-01]\n",
            "  [3.38229085e-01]\n",
            "  ...\n",
            "  [3.31247593e-01]\n",
            "  [3.29536590e-01]\n",
            "  [3.27680331e-01]]\n",
            "\n",
            " [[3.24881227e-01]\n",
            "  [3.38229085e-01]\n",
            "  [3.18078080e-01]\n",
            "  ...\n",
            "  [3.29536590e-01]\n",
            "  [3.27680331e-01]\n",
            "  [2.96784177e-01]]]\n",
            "B\n",
            "[[[0.33822909]\n",
            "  [0.31807808]\n",
            "  [0.32268536]\n",
            "  ...\n",
            "  [0.32768033]\n",
            "  [0.29678418]\n",
            "  [0.29192669]]\n",
            "\n",
            " [[0.31807808]\n",
            "  [0.32268536]\n",
            "  [0.32684034]\n",
            "  ...\n",
            "  [0.29678418]\n",
            "  [0.29192669]\n",
            "  [0.2887616 ]]\n",
            "\n",
            " [[0.32268536]\n",
            "  [0.32684034]\n",
            "  [0.32375332]\n",
            "  ...\n",
            "  [0.29192669]\n",
            "  [0.2887616 ]\n",
            "  [0.28786578]]\n",
            "\n",
            " ...\n",
            "\n",
            " [[0.20926329]\n",
            "  [0.18961059]\n",
            "  [0.18966487]\n",
            "  ...\n",
            "  [0.26038283]\n",
            "  [0.2694568 ]\n",
            "  [0.27066896]]\n",
            "\n",
            " [[0.18961059]\n",
            "  [0.18966487]\n",
            "  [0.18941571]\n",
            "  ...\n",
            "  [0.2694568 ]\n",
            "  [0.27066896]\n",
            "  [0.27343396]]\n",
            "\n",
            " [[0.18966487]\n",
            "  [0.18941571]\n",
            "  [0.18356731]\n",
            "  ...\n",
            "  [0.27066896]\n",
            "  [0.27343396]\n",
            "  [0.27373273]]]\n"
          ]
        }
      ]
    },
    {
      "metadata": {
        "id": "XNBTUeaXreni",
        "outputId": "bf48045b-25e3-4ba5-df0d-f6019834994b",
        "colab": {
          "base_uri": "https://localhost:8080/"
        }
      },
      "cell_type": "code",
      "source": [
        "X_train.shape\n"
      ],
      "execution_count": null,
      "outputs": [
        {
          "output_type": "execute_result",
          "data": {
            "text/plain": [
              "(2945, 99, 1)"
            ]
          },
          "metadata": {},
          "execution_count": 16
        }
      ]
    },
    {
      "metadata": {
        "id": "4IOoiN3pUUgO",
        "colab": {
          "base_uri": "https://localhost:8080/"
        },
        "outputId": "1a89dc20-d655-4b5b-8c34-ae962a52d858"
      },
      "cell_type": "code",
      "source": [
        "X_test.shape"
      ],
      "execution_count": null,
      "outputs": [
        {
          "output_type": "execute_result",
          "data": {
            "text/plain": [
              "(156, 99, 1)"
            ]
          },
          "metadata": {},
          "execution_count": 17
        }
      ]
    },
    {
      "metadata": {
        "id": "Yhhv26c34YTW"
      },
      "cell_type": "markdown",
      "source": [
        "# Model"
      ]
    },
    {
      "metadata": {
        "id": "a3dw5qTasJoy"
      },
      "cell_type": "code",
      "source": [
        "DROPOUT = 0.2\n",
        "WINDOW_SIZE = SEQ_LEN - 1\n",
        "\n",
        "model = keras.Sequential()\n",
        "\n",
        "model.add(Bidirectional(LSTM(WINDOW_SIZE, return_sequences=True),\n",
        "                        input_shape=(WINDOW_SIZE, X_train.shape[-1])))\n",
        "model.add(Dropout(rate=DROPOUT))\n",
        "\n",
        "model.add(Bidirectional(LSTM((WINDOW_SIZE * 2), return_sequences=True)))\n",
        "model.add(Dropout(rate=DROPOUT))\n",
        "\n",
        "model.add(Bidirectional(LSTM(WINDOW_SIZE, return_sequences=False)))\n",
        "\n",
        "model.add(Dense(units=1))\n",
        "\n",
        "model.add(Activation('linear'))"
      ],
      "execution_count": null,
      "outputs": []
    },
    {
      "metadata": {
        "id": "pjBan-K27L8d"
      },
      "cell_type": "markdown",
      "source": [
        "# Training"
      ]
    },
    {
      "metadata": {
        "id": "zvc-LMgOHkWJ"
      },
      "cell_type": "code",
      "source": [
        "model.compile(\n",
        "    loss='mean_squared_error',\n",
        "    optimizer='adam'\n",
        ")"
      ],
      "execution_count": null,
      "outputs": []
    },
    {
      "metadata": {
        "id": "m1aU2xDvsvrN",
        "outputId": "29536609-aeda-4151-fb5d-6852b2253cc5",
        "colab": {
          "base_uri": "https://localhost:8080/"
        }
      },
      "cell_type": "code",
      "source": [
        "BATCH_SIZE = 64\n",
        "\n",
        "history = model.fit(\n",
        "    X_train,\n",
        "    y_train,\n",
        "    epochs=50,\n",
        "    batch_size=BATCH_SIZE,\n",
        "    shuffle=False,\n",
        "    validation_split=0.1\n",
        ")"
      ],
      "execution_count": null,
      "outputs": [
        {
          "output_type": "stream",
          "name": "stdout",
          "text": [
            "Epoch 1/50\n",
            "42/42 [==============================] - 102s 2s/step - loss: 0.0053 - val_loss: 0.0315\n",
            "Epoch 2/50\n",
            "33/42 [======================>.......] - ETA: 15s - loss: 0.0022"
          ]
        }
      ]
    },
    {
      "metadata": {
        "id": "L9JumIeP40xv"
      },
      "cell_type": "code",
      "source": [
        "model.evaluate(X_test, y_test)"
      ],
      "execution_count": null,
      "outputs": []
    },
    {
      "metadata": {
        "id": "2_9ibR1e5DnQ"
      },
      "cell_type": "code",
      "source": [
        "plt.plot(history.history['loss'])\n",
        "plt.plot(history.history['val_loss'])\n",
        "plt.title('model loss')\n",
        "plt.ylabel('loss')\n",
        "plt.xlabel('epoch')\n",
        "plt.legend(['train', 'test'], loc='upper left')\n",
        "plt.show()"
      ],
      "execution_count": null,
      "outputs": []
    },
    {
      "metadata": {
        "id": "Xf9STH2D4_hP"
      },
      "cell_type": "markdown",
      "source": [
        "# Prediction"
      ]
    },
    {
      "metadata": {
        "id": "Lui1XTi0xVsF"
      },
      "cell_type": "code",
      "source": [
        "y_hat = model.predict(X_test)\n",
        "\n",
        "y_test_inverse = scaler.inverse_transform(y_test)\n",
        "y_hat_inverse = scaler.inverse_transform(y_hat)\n",
        "\n",
        "plt.plot(y_test_inverse, label=\"Actual Price\", color='green')\n",
        "plt.plot(y_hat_inverse, label=\"Predicted Price\", color='red')\n",
        "\n",
        "plt.title('Bitcoin price prediction')\n",
        "plt.xlabel('Time [days]')\n",
        "plt.ylabel('Price')\n",
        "plt.legend(loc='best')\n",
        "\n",
        "plt.show();"
      ],
      "execution_count": null,
      "outputs": []
    },
    {
      "cell_type": "code",
      "source": [
        "resolver = tf.distribute.cluster_resolver.TPUClusterResolver(tpu='grpc://' + os.environ['COLAB_TPU_ADDR'])\n",
        "tf.config.experimental_connect_to_cluster(resolver)\n",
        "tf.tpu.experimental.initialize_tpu_system(resolver)\n",
        "strategy = tf.distribute.TPUStrategy(resolver)"
      ],
      "metadata": {
        "id": "Yu--MSdBDzkU"
      },
      "execution_count": null,
      "outputs": []
    },
    {
      "metadata": {
        "id": "ak-CiQAVz4Fw"
      },
      "cell_type": "code",
      "source": [
        "import time\n",
        "import tensorflow as tf\n",
        "import os\n",
        "\n",
        "\n",
        "def treniranje_modela(accelerator):\n",
        "    print(f\"Running on {accelerator}\")\n",
        "    start_time = time.time()\n",
        "    model.compile(\n",
        "    loss='mean_squared_error',\n",
        "    optimizer='adam'\n",
        "    )\n",
        "\n",
        "    BATCH_SIZE = 64\n",
        "\n",
        "    history = model.fit(\n",
        "        X_train,\n",
        "        y_train,\n",
        "        epochs=50,\n",
        "        batch_size=BATCH_SIZE,\n",
        "        shuffle=False,\n",
        "        validation_split=0.1\n",
        "    )\n",
        "    elapsed_time = time.time() - start_time\n",
        "\n",
        "    print(f\"Elapsed Time: {elapsed_time} seconds\")"
      ],
      "execution_count": null,
      "outputs": []
    },
    {
      "cell_type": "code",
      "source": [
        "with tf.device('/CPU:0'):\n",
        "  treniranje_modela(\"CPU\")\n"
      ],
      "metadata": {
        "id": "YZb8OelyDeqs"
      },
      "execution_count": null,
      "outputs": []
    },
    {
      "cell_type": "code",
      "source": [
        "with tf.device('/GPU:0'):\n",
        "    treniranje_modela(\"GPU\")"
      ],
      "metadata": {
        "id": "qq7BHeBoDjmU"
      },
      "execution_count": null,
      "outputs": []
    },
    {
      "cell_type": "code",
      "source": [
        "with strategy.scope():\n",
        "    treniranje_modela(\"TPU\")"
      ],
      "metadata": {
        "id": "jTiLa2m6D38c"
      },
      "execution_count": null,
      "outputs": []
    }
  ]
}